{
 "cells": [
  {
   "cell_type": "code",
   "execution_count": 127,
   "metadata": {},
   "outputs": [],
   "source": [
    "import array, csv, datetime, math, random\n",
    "import numpy as np\n",
    "import matplotlib.pyplot as plt\n",
    "\n",
    "def LngLatToWebMercator(lnglat):\n",
    "    (lng, lat) = lnglat\n",
    "    x = (lng + 180.0) * 256.0 / 360.0\n",
    "    y = 128.0 - math.log(math.tan((lat + 90.0) * math.pi / 360.0)) * 128.0 / math.pi\n",
    "    return [x, y]\n",
    "\n",
    "def YearMonthDayToEpoch(year, month, day):\n",
    "  return (datetime.datetime(int(year), int(month), int(day)) - datetime.datetime(1970, 1, 1)).total_seconds()\n",
    "\n",
    "srcfile_0 = 'capture/gtd_70to91_0616dist-xlsx.csv'\n",
    "srcfile_1 = 'capture/gtd_92to11_0616dist-xlsx.csv'\n",
    "srcfile_2 = 'capture/gtd_12to15_0616dist-xlsx.csv'"
   ]
  },
  {
   "cell_type": "code",
   "execution_count": 6,
   "metadata": {},
   "outputs": [],
   "source": [
    "gtd_data = []\n",
    "with open(srcfile_0, \"rb\") as csvfile:\n",
    "    reader = csv.DictReader(csvfile)\n",
    "    for line in reader:\n",
    "        gtd_data.append(line)\n",
    "with open(srcfile_1, \"rb\") as csvfile:\n",
    "    reader = csv.DictReader(csvfile)\n",
    "    for line in reader:\n",
    "        gtd_data.append(line)\n",
    "with open(srcfile_2, \"rb\") as csvfile:\n",
    "    reader = csv.DictReader(csvfile)\n",
    "    for line in reader:\n",
    "        gtd_data.append(line)\n"
   ]
  },
  {
   "cell_type": "code",
   "execution_count": 25,
   "metadata": {},
   "outputs": [],
   "source": [
    "points = []\n",
    "for row in gtd_data:\n",
    "    if row['longitude'] != '' and row['latitude'] != '':\n",
    "        lng = float(row['longitude'])\n",
    "        lat = float(row['latitude'])\n",
    "        year = int(float(row['iyear']))\n",
    "        month = int(float(row['imonth']))\n",
    "        if month == 0:\n",
    "            month = random.randrange(1,12,1) \n",
    "        day = int(float(row['iday']))\n",
    "        if day == 0:\n",
    "            day = random.randrange(1,28,1)     \n",
    "        points += LngLatToWebMercator((lng,lat))\n",
    "        points.append(YearMonthDayToEpoch(year, month,day))\n",
    "array.array('f', points).tofile(open('gtd.bin', 'wb'))\n"
   ]
  },
  {
   "cell_type": "code",
   "execution_count": 51,
   "metadata": {},
   "outputs": [
    {
     "name": "stdout",
     "output_type": "stream",
     "text": [
      "5513.0\n",
      "789295.999998\n",
      "5.03467455922\n"
     ]
    }
   ],
   "source": [
    "max_casualties = 0\n",
    "total_casualties = 0\n",
    "c = []\n",
    "for row in gtd_data:\n",
    "    nkill = 0.0\n",
    "    if row['nkill'] != '':\n",
    "        nkill = float(row['nkill'])\n",
    "    nwound = 0.0\n",
    "    if row['nwound'] != '':\n",
    "        nwound = float(row['nwound'])    \n",
    "    casualties = nkill + nwound\n",
    "    if casualties > max_casualties:\n",
    "        max_casualties = casualties\n",
    "    total_casualties += casualties\n",
    "    c.append(casualties)\n",
    "print max_casualties\n",
    "print total_casualties\n",
    "print total_casualties/len(gtd_data)"
   ]
  },
  {
   "cell_type": "code",
   "execution_count": 56,
   "metadata": {},
   "outputs": [],
   "source": [
    "plt.hist(c,bins=1000)\n",
    "plt.show()"
   ]
  },
  {
   "cell_type": "code",
   "execution_count": 133,
   "metadata": {},
   "outputs": [],
   "source": [
    "scaled_l30 = np.logspace(1.0, 2.0, 1000 + 1, endpoint=True)\n",
    "scaled_g30 = np.logspace(2.0, 2.5, max_casualties + 1, endpoint=True)\n",
    "scaled = np.logspace(1.0, 2.5, max_casualties+1, endpoint=True)"
   ]
  },
  {
   "cell_type": "code",
   "execution_count": 134,
   "metadata": {},
   "outputs": [],
   "source": [
    "points = []\n",
    "for row in gtd_data:\n",
    "    if row['longitude'] != '' and row['latitude'] != '':\n",
    "        lng = float(row['longitude'])\n",
    "        lat = float(row['latitude'])\n",
    "        year = int(float(row['iyear']))\n",
    "        month = int(float(row['imonth']))\n",
    "        if month == 0:\n",
    "            month = random.randrange(1,12,1) \n",
    "        day = int(float(row['iday']))\n",
    "        if day == 0:\n",
    "            day = random.randrange(1,28,1)     \n",
    "        points += LngLatToWebMercator((lng,lat))\n",
    "        points.append(YearMonthDayToEpoch(year, month,day))\n",
    "        nkill = 0.0\n",
    "        if row['nkill'] != '':\n",
    "            nkill = float(row['nkill'])\n",
    "        nwound = 0.0\n",
    "        if row['nwound'] != '':\n",
    "            nwound = float(row['nwound'])    \n",
    "        casualties = nkill + nwound\n",
    "        if casualties <= 1000.0:\n",
    "            scaled_value = scaled_l30[int(casualties)]\n",
    "        if casualties > 1000.0:\n",
    "            scaled_value = scaled_g30[int(casualties)]\n",
    "        #scaled_value = scaled[casualties]\n",
    "        points.append(scaled_value)\n",
    "array.array('f', points).tofile(open('gtd-casualties.bin', 'wb'))\n"
   ]
  },
  {
   "cell_type": "code",
   "execution_count": 75,
   "metadata": {},
   "outputs": [],
   "source": [
    "x = np.logspace(0, 1.5, 30, endpoint=True)"
   ]
  },
  {
   "cell_type": "code",
   "execution_count": 76,
   "metadata": {},
   "outputs": [
    {
     "data": {
      "text/plain": [
       "31.622776601683793"
      ]
     },
     "execution_count": 76,
     "metadata": {},
     "output_type": "execute_result"
    }
   ],
   "source": [
    "x[29]"
   ]
  },
  {
   "cell_type": "code",
   "execution_count": 59,
   "metadata": {},
   "outputs": [],
   "source": [
    "s = sorted(c)"
   ]
  },
  {
   "cell_type": "code",
   "execution_count": 60,
   "metadata": {},
   "outputs": [
    {
     "data": {
      "text/plain": [
       "156772"
      ]
     },
     "execution_count": 60,
     "metadata": {},
     "output_type": "execute_result"
    }
   ],
   "source": [
    "len(s)"
   ]
  },
  {
   "cell_type": "code",
   "execution_count": 69,
   "metadata": {},
   "outputs": [
    {
     "data": {
      "text/plain": [
       "23.0"
      ]
     },
     "execution_count": 69,
     "metadata": {},
     "output_type": "execute_result"
    }
   ],
   "source": [
    "s[150000]"
   ]
  },
  {
   "cell_type": "code",
   "execution_count": 119,
   "metadata": {},
   "outputs": [],
   "source": [
    "x = np.logspace(1.0, 2.0, max_casualties, endpoint=True)"
   ]
  },
  {
   "cell_type": "code",
   "execution_count": 120,
   "metadata": {},
   "outputs": [
    {
     "data": {
      "text/plain": [
       "15.185264160298242"
      ]
     },
     "execution_count": 120,
     "metadata": {},
     "output_type": "execute_result"
    }
   ],
   "source": [
    "x[1000]"
   ]
  },
  {
   "cell_type": "code",
   "execution_count": 121,
   "metadata": {},
   "outputs": [
    {
     "data": {
      "text/plain": [
       "100.0"
      ]
     },
     "execution_count": 121,
     "metadata": {},
     "output_type": "execute_result"
    }
   ],
   "source": [
    "x[max_casualties - 1]"
   ]
  },
  {
   "cell_type": "code",
   "execution_count": 122,
   "metadata": {},
   "outputs": [
    {
     "data": {
      "text/plain": [
       "10.0"
      ]
     },
     "execution_count": 122,
     "metadata": {},
     "output_type": "execute_result"
    }
   ],
   "source": [
    "x[0]"
   ]
  },
  {
   "cell_type": "code",
   "execution_count": 135,
   "metadata": {},
   "outputs": [],
   "source": [
    "scaled_l30 = np.logspace(1.0, 2.0, 1000 + 1, endpoint=True)\n",
    "scaled_g30 = np.logspace(2.0, 2.5, max_casualties + 1, endpoint=True)\n"
   ]
  },
  {
   "cell_type": "code",
   "execution_count": 136,
   "metadata": {},
   "outputs": [
    {
     "data": {
      "text/plain": [
       "array([  10.        ,   10.02305238,   10.0461579 , ...,   99.54054174,\n",
       "         99.77000638,  100.        ])"
      ]
     },
     "execution_count": 136,
     "metadata": {},
     "output_type": "execute_result"
    }
   ],
   "source": [
    "scaled_l30"
   ]
  },
  {
   "cell_type": "code",
   "execution_count": 137,
   "metadata": {},
   "outputs": [
    {
     "data": {
      "text/plain": [
       "array([ 100.        ,  100.02088541,  100.04177519, ...,  316.09571644,\n",
       "        316.16173434,  316.22776602])"
      ]
     },
     "execution_count": 137,
     "metadata": {},
     "output_type": "execute_result"
    }
   ],
   "source": [
    "scaled_g30"
   ]
  },
  {
   "cell_type": "code",
   "execution_count": null,
   "metadata": {},
   "outputs": [],
   "source": []
  }
 ],
 "metadata": {
  "kernelspec": {
   "display_name": "Python 2",
   "language": "python",
   "name": "python2"
  },
  "language_info": {
   "codemirror_mode": {
    "name": "ipython",
    "version": 2
   },
   "file_extension": ".py",
   "mimetype": "text/x-python",
   "name": "python",
   "nbconvert_exporter": "python",
   "pygments_lexer": "ipython2",
   "version": "2.7.13"
  }
 },
 "nbformat": 4,
 "nbformat_minor": 1
}
