{
 "cells": [
  {
   "cell_type": "code",
   "execution_count": null,
   "metadata": {},
   "outputs": [
    {
     "name": "stdout",
     "output_type": "stream",
     "text": [
      "--2017-08-21 21:23:09--  http://apps.start.umd.edu/gtd/downloads/dataset/GTD_0617dist.zip\n",
      "Resolving apps.start.umd.edu... 129.2.168.188\n",
      "Connecting to apps.start.umd.edu|129.2.168.188|:80... connected.\n",
      "HTTP request sent, awaiting response... 200 OK\n",
      "Length: 165299595 (158M) [application/x-zip-compressed]\n",
      "Saving to: ‘GTD_0617dist.zip’\n",
      "\n",
      "GTD_0617dist.zip     99%[==================> ] 157.08M  1.79MB/s    eta 1s     "
     ]
    }
   ],
   "source": [
    "# Download and extract Global Terrorism Database \n",
    "# https://www.start.umd.edu/gtd/\n",
    "cmd = \"wget http://apps.start.umd.edu/gtd/downloads/dataset/GTD_0617dist.zip\"\n",
    "!$cmd\n",
    "cmd = \"unzip GTD_0617dist.zip -d GTD_0617dist\"\n",
    "!$cmd"
   ]
  },
  {
   "cell_type": "code",
   "execution_count": null,
   "metadata": {
    "collapsed": true
   },
   "outputs": [],
   "source": []
  }
 ],
 "metadata": {
  "kernelspec": {
   "display_name": "Python 2",
   "language": "python",
   "name": "python2"
  },
  "language_info": {
   "codemirror_mode": {
    "name": "ipython",
    "version": 2
   },
   "file_extension": ".py",
   "mimetype": "text/x-python",
   "name": "python",
   "nbconvert_exporter": "python",
   "pygments_lexer": "ipython2",
   "version": "2.7.13"
  }
 },
 "nbformat": 4,
 "nbformat_minor": 2
}
