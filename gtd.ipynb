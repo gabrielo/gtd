{
 "metadata": {
  "name": "",
  "signature": "sha256:eebd6dbd0df8d233db3c09c55e693b79581f4f2d7898464b490925dedb4e36eb"
 },
 "nbformat": 3,
 "nbformat_minor": 0,
 "worksheets": [
  {
   "cells": [
    {
     "cell_type": "code",
     "collapsed": false,
     "input": [
      "import array, csv, datetime, math, random\n",
      "import numpy as np\n",
      "import matplotlib.pyplot as plt\n",
      "\n",
      "def LngLatToWebMercator(lnglat):\n",
      "    (lng, lat) = lnglat\n",
      "    x = (lng + 180.0) * 256.0 / 360.0\n",
      "    y = 128.0 - math.log(math.tan((lat + 90.0) * math.pi / 360.0)) * 128.0 / math.pi\n",
      "    return [x, y]\n",
      "\n",
      "def YearMonthDayToEpoch(year, month, day):\n",
      "  return (datetime.datetime(int(year), int(month), int(day)) - datetime.datetime(1970, 1, 1)).total_seconds()\n",
      "\n",
      "srcfile_0 = 'capture/gtd_70to91_0616dist-xlsx.csv'\n",
      "srcfile_1 = 'capture/gtd_92to11_0616dist-xlsx.csv'\n",
      "srcfile_2 = 'capture/gtd_12to15_0616dist-xlsx.csv'"
     ],
     "language": "python",
     "metadata": {},
     "outputs": [],
     "prompt_number": 127
    },
    {
     "cell_type": "code",
     "collapsed": false,
     "input": [
      "gtd_data = []\n",
      "with open(srcfile_0, \"rb\") as csvfile:\n",
      "    reader = csv.DictReader(csvfile)\n",
      "    for line in reader:\n",
      "        gtd_data.append(line)\n",
      "with open(srcfile_1, \"rb\") as csvfile:\n",
      "    reader = csv.DictReader(csvfile)\n",
      "    for line in reader:\n",
      "        gtd_data.append(line)\n",
      "with open(srcfile_2, \"rb\") as csvfile:\n",
      "    reader = csv.DictReader(csvfile)\n",
      "    for line in reader:\n",
      "        gtd_data.append(line)\n"
     ],
     "language": "python",
     "metadata": {},
     "outputs": [],
     "prompt_number": 6
    },
    {
     "cell_type": "code",
     "collapsed": false,
     "input": [
      "points = []\n",
      "for row in gtd_data:\n",
      "    if row['longitude'] != '' and row['latitude'] != '':\n",
      "        lng = float(row['longitude'])\n",
      "        lat = float(row['latitude'])\n",
      "        year = int(float(row['iyear']))\n",
      "        month = int(float(row['imonth']))\n",
      "        if month == 0:\n",
      "            month = random.randrange(1,12,1) \n",
      "        day = int(float(row['iday']))\n",
      "        if day == 0:\n",
      "            day = random.randrange(1,28,1)     \n",
      "        points += LngLatToWebMercator((lng,lat))\n",
      "        points.append(YearMonthDayToEpoch(year, month,day))\n",
      "array.array('f', points).tofile(open('gtd.bin', 'wb'))\n"
     ],
     "language": "python",
     "metadata": {},
     "outputs": [],
     "prompt_number": 25
    },
    {
     "cell_type": "code",
     "collapsed": false,
     "input": [
      "max_casualties = 0\n",
      "total_casualties = 0\n",
      "c = []\n",
      "for row in gtd_data:\n",
      "    nkill = 0.0\n",
      "    if row['nkill'] != '':\n",
      "        nkill = float(row['nkill'])\n",
      "    nwound = 0.0\n",
      "    if row['nwound'] != '':\n",
      "        nwound = float(row['nwound'])    \n",
      "    casualties = nkill + nwound\n",
      "    if casualties > max_casualties:\n",
      "        max_casualties = casualties\n",
      "    total_casualties += casualties\n",
      "    c.append(casualties)\n",
      "print max_casualties\n",
      "print total_casualties\n",
      "print total_casualties/len(gtd_data)"
     ],
     "language": "python",
     "metadata": {},
     "outputs": [
      {
       "output_type": "stream",
       "stream": "stdout",
       "text": [
        "5513.0\n",
        "789295.999998\n",
        "5.03467455922\n"
       ]
      }
     ],
     "prompt_number": 51
    },
    {
     "cell_type": "code",
     "collapsed": false,
     "input": [
      "plt.hist(c,bins=1000)\n",
      "plt.show()"
     ],
     "language": "python",
     "metadata": {},
     "outputs": [],
     "prompt_number": 56
    },
    {
     "cell_type": "code",
     "collapsed": false,
     "input": [
      "scaled_l30 = np.logspace(1.0, 2.0, 1000 + 1, endpoint=True)\n",
      "scaled_g30 = np.logspace(2.0, 2.5, max_casualties + 1, endpoint=True)\n",
      "scaled = np.logspace(1.0, 2.5, max_casualties+1, endpoint=True)"
     ],
     "language": "python",
     "metadata": {},
     "outputs": [],
     "prompt_number": 133
    },
    {
     "cell_type": "code",
     "collapsed": false,
     "input": [
      "points = []\n",
      "for row in gtd_data:\n",
      "    if row['longitude'] != '' and row['latitude'] != '':\n",
      "        lng = float(row['longitude'])\n",
      "        lat = float(row['latitude'])\n",
      "        year = int(float(row['iyear']))\n",
      "        month = int(float(row['imonth']))\n",
      "        if month == 0:\n",
      "            month = random.randrange(1,12,1) \n",
      "        day = int(float(row['iday']))\n",
      "        if day == 0:\n",
      "            day = random.randrange(1,28,1)     \n",
      "        points += LngLatToWebMercator((lng,lat))\n",
      "        points.append(YearMonthDayToEpoch(year, month,day))\n",
      "        nkill = 0.0\n",
      "        if row['nkill'] != '':\n",
      "            nkill = float(row['nkill'])\n",
      "        nwound = 0.0\n",
      "        if row['nwound'] != '':\n",
      "            nwound = float(row['nwound'])    \n",
      "        casualties = nkill + nwound\n",
      "        if casualties <= 1000.0:\n",
      "            scaled_value = scaled_l30[int(casualties)]\n",
      "        if casualties > 1000.0:\n",
      "            scaled_value = scaled_g30[int(casualties)]\n",
      "        #scaled_value = scaled[casualties]\n",
      "        points.append(scaled_value)\n",
      "array.array('f', points).tofile(open('gtd-casualties.bin', 'wb'))\n"
     ],
     "language": "python",
     "metadata": {},
     "outputs": [],
     "prompt_number": 134
    },
    {
     "cell_type": "code",
     "collapsed": false,
     "input": [
      "x = np.logspace(0, 1.5, 30, endpoint=True)"
     ],
     "language": "python",
     "metadata": {},
     "outputs": [],
     "prompt_number": 75
    },
    {
     "cell_type": "code",
     "collapsed": false,
     "input": [
      "x[29]"
     ],
     "language": "python",
     "metadata": {},
     "outputs": [
      {
       "metadata": {},
       "output_type": "pyout",
       "prompt_number": 76,
       "text": [
        "31.622776601683793"
       ]
      }
     ],
     "prompt_number": 76
    },
    {
     "cell_type": "code",
     "collapsed": false,
     "input": [
      "s = sorted(c)"
     ],
     "language": "python",
     "metadata": {},
     "outputs": [],
     "prompt_number": 59
    },
    {
     "cell_type": "code",
     "collapsed": false,
     "input": [
      "len(s)"
     ],
     "language": "python",
     "metadata": {},
     "outputs": [
      {
       "metadata": {},
       "output_type": "pyout",
       "prompt_number": 60,
       "text": [
        "156772"
       ]
      }
     ],
     "prompt_number": 60
    },
    {
     "cell_type": "code",
     "collapsed": false,
     "input": [
      "s[150000]"
     ],
     "language": "python",
     "metadata": {},
     "outputs": [
      {
       "metadata": {},
       "output_type": "pyout",
       "prompt_number": 69,
       "text": [
        "23.0"
       ]
      }
     ],
     "prompt_number": 69
    },
    {
     "cell_type": "code",
     "collapsed": false,
     "input": [
      "x = np.logspace(1.0, 2.0, max_casualties, endpoint=True)"
     ],
     "language": "python",
     "metadata": {},
     "outputs": [],
     "prompt_number": 119
    },
    {
     "cell_type": "code",
     "collapsed": false,
     "input": [
      "x[1000]"
     ],
     "language": "python",
     "metadata": {},
     "outputs": [
      {
       "metadata": {},
       "output_type": "pyout",
       "prompt_number": 120,
       "text": [
        "15.185264160298242"
       ]
      }
     ],
     "prompt_number": 120
    },
    {
     "cell_type": "code",
     "collapsed": false,
     "input": [
      "x[max_casualties - 1]"
     ],
     "language": "python",
     "metadata": {},
     "outputs": [
      {
       "metadata": {},
       "output_type": "pyout",
       "prompt_number": 121,
       "text": [
        "100.0"
       ]
      }
     ],
     "prompt_number": 121
    },
    {
     "cell_type": "code",
     "collapsed": false,
     "input": [
      "x[0]"
     ],
     "language": "python",
     "metadata": {},
     "outputs": [
      {
       "metadata": {},
       "output_type": "pyout",
       "prompt_number": 122,
       "text": [
        "10.0"
       ]
      }
     ],
     "prompt_number": 122
    },
    {
     "cell_type": "code",
     "collapsed": false,
     "input": [
      "scaled_l30 = np.logspace(1.0, 2.0, 1000 + 1, endpoint=True)\n",
      "scaled_g30 = np.logspace(2.0, 2.5, max_casualties + 1, endpoint=True)\n"
     ],
     "language": "python",
     "metadata": {},
     "outputs": [],
     "prompt_number": 135
    },
    {
     "cell_type": "code",
     "collapsed": false,
     "input": [
      "scaled_l30"
     ],
     "language": "python",
     "metadata": {},
     "outputs": [
      {
       "metadata": {},
       "output_type": "pyout",
       "prompt_number": 136,
       "text": [
        "array([  10.        ,   10.02305238,   10.0461579 , ...,   99.54054174,\n",
        "         99.77000638,  100.        ])"
       ]
      }
     ],
     "prompt_number": 136
    },
    {
     "cell_type": "code",
     "collapsed": false,
     "input": [
      "scaled_g30"
     ],
     "language": "python",
     "metadata": {},
     "outputs": [
      {
       "metadata": {},
       "output_type": "pyout",
       "prompt_number": 137,
       "text": [
        "array([ 100.        ,  100.02088541,  100.04177519, ...,  316.09571644,\n",
        "        316.16173434,  316.22776602])"
       ]
      }
     ],
     "prompt_number": 137
    },
    {
     "cell_type": "code",
     "collapsed": false,
     "input": [],
     "language": "python",
     "metadata": {},
     "outputs": []
    }
   ],
   "metadata": {}
  }
 ]
}