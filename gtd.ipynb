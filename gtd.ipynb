{
 "metadata": {
  "name": "",
  "signature": "sha256:98604cfa10e1f3a62f95c1f0f29634b566f92d97b7de04f4e6eabbe2efafa6ec"
 },
 "nbformat": 3,
 "nbformat_minor": 0,
 "worksheets": [
  {
   "cells": [
    {
     "cell_type": "code",
     "collapsed": false,
     "input": [
      "import array, csv, datetime, math, random\n",
      "\n",
      "def LngLatToWebMercator(lnglat):\n",
      "    (lng, lat) = lnglat\n",
      "    x = (lng + 180.0) * 256.0 / 360.0\n",
      "    y = 128.0 - math.log(math.tan((lat + 90.0) * math.pi / 360.0)) * 128.0 / math.pi\n",
      "    return [x, y]\n",
      "\n",
      "def YearMonthDayToEpoch(year, month, day):\n",
      "  return (datetime.datetime(int(year), int(month), int(day)) - datetime.datetime(1970, 1, 1)).total_seconds()\n",
      "\n",
      "srcfile_0 = 'gtd_70to91_0616dist-xlsx.csv'\n",
      "srcfile_1 = 'gtd_92to11_0616dist-xlsx.csv'\n",
      "srcfile_2 = 'gtd_12to15_0616dist-xlsx.csv'"
     ],
     "language": "python",
     "metadata": {},
     "outputs": [],
     "prompt_number": 11
    },
    {
     "cell_type": "code",
     "collapsed": false,
     "input": [
      "gtd_data = []\n",
      "with open(srcfile_0, \"rb\") as csvfile:\n",
      "    reader = csv.DictReader(csvfile)\n",
      "    for line in reader:\n",
      "        gtd_data.append(line)\n",
      "with open(srcfile_1, \"rb\") as csvfile:\n",
      "    reader = csv.DictReader(csvfile)\n",
      "    for line in reader:\n",
      "        gtd_data.append(line)\n",
      "with open(srcfile_2, \"rb\") as csvfile:\n",
      "    reader = csv.DictReader(csvfile)\n",
      "    for line in reader:\n",
      "        gtd_data.append(line)\n"
     ],
     "language": "python",
     "metadata": {},
     "outputs": [],
     "prompt_number": 12
    },
    {
     "cell_type": "code",
     "collapsed": false,
     "input": [
      "points = []\n",
      "for row in gtd_data:\n",
      "    if row['longitude'] != '' and row['latitude'] != '':\n",
      "        lng = float(row['longitude'])\n",
      "        lat = float(row['latitude'])\n",
      "        year = int(float(row['iyear']))\n",
      "        month = int(float(row['imonth']))\n",
      "        if month == 0:\n",
      "            month = random.randrange(1,12,1) \n",
      "        day = int(float(row['iday']))\n",
      "        if day == 0:\n",
      "            day = random.randrange(1,28,1)     \n",
      "        points += LngLatToWebMercator((lng,lat))\n",
      "        points.append(YearMonthDayToEpoch(year, month,day))\n",
      "array.array('f', points).tofile(open('gtd.bin', 'wb'))\n"
     ],
     "language": "python",
     "metadata": {},
     "outputs": [],
     "prompt_number": 25
    },
    {
     "cell_type": "code",
     "collapsed": false,
     "input": [
      "len(gtd_data)"
     ],
     "language": "python",
     "metadata": {},
     "outputs": [
      {
       "metadata": {},
       "output_type": "pyout",
       "prompt_number": 26,
       "text": [
        "156772"
       ]
      }
     ],
     "prompt_number": 26
    },
    {
     "cell_type": "code",
     "collapsed": false,
     "input": [
      "len(points)/3"
     ],
     "language": "python",
     "metadata": {},
     "outputs": [
      {
       "metadata": {},
       "output_type": "pyout",
       "prompt_number": 28,
       "text": [
        "152253"
       ]
      }
     ],
     "prompt_number": 28
    },
    {
     "cell_type": "code",
     "collapsed": false,
     "input": [],
     "language": "python",
     "metadata": {},
     "outputs": []
    }
   ],
   "metadata": {}
  }
 ]
}